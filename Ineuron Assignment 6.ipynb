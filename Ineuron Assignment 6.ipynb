{
 "cells": [
  {
   "cell_type": "markdown",
   "id": "6fd93090",
   "metadata": {},
   "source": [
    "# Ineuron Assignment 6"
   ]
  },
  {
   "cell_type": "code",
   "execution_count": 1,
   "id": "143386f2",
   "metadata": {},
   "outputs": [],
   "source": [
    "# Question 1: What are escape characters, and how do you use them ?"
   ]
  },
  {
   "cell_type": "code",
   "execution_count": 2,
   "id": "b130ae2e",
   "metadata": {},
   "outputs": [],
   "source": [
    "# Answer\n",
    "# In Python strings, the backslash \"\\\" is a special character, also called the \"escape\" character.\n",
    "# It is used in representing certain whitespace characters: \"\\t\" is a tab, \"\\n\" is a newline, and \"\\r\" is a carriage return."
   ]
  },
  {
   "cell_type": "code",
   "execution_count": 4,
   "id": "35a4d9aa",
   "metadata": {},
   "outputs": [
    {
     "name": "stdout",
     "output_type": "stream",
     "text": [
      "Ineuron online class\n"
     ]
    }
   ],
   "source": [
    "print(\"Ineuron \\\n",
    "online \\\n",
    "class\")"
   ]
  },
  {
   "cell_type": "code",
   "execution_count": null,
   "id": "ff67327b",
   "metadata": {},
   "outputs": [],
   "source": [
    "# Question 2: What do the escape characters n and t stand for?"
   ]
  },
  {
   "cell_type": "code",
   "execution_count": 5,
   "id": "dd603479",
   "metadata": {},
   "outputs": [],
   "source": [
    "# Answer;\n",
    "# \"\\t\" is a tab .\n",
    "# \"\\n\" is a newline"
   ]
  },
  {
   "cell_type": "code",
   "execution_count": null,
   "id": "14c4ca45",
   "metadata": {},
   "outputs": [],
   "source": [
    "# Question 3: What is the way to include backslash characters in a string?"
   ]
  },
  {
   "cell_type": "code",
   "execution_count": 7,
   "id": "a3e769fb",
   "metadata": {},
   "outputs": [
    {
     "name": "stdout",
     "output_type": "stream",
     "text": [
      "It is Ineuron backslach \\ in a line\n"
     ]
    }
   ],
   "source": [
    "# Answer;\n",
    "print('It is Ineuron backslach \\\\ in a line')"
   ]
  },
  {
   "cell_type": "code",
   "execution_count": null,
   "id": "4b6d0d45",
   "metadata": {},
   "outputs": [],
   "source": [
    "# Question 4: \n",
    "# The string \"Howl's Moving Castle\" is a correct value.\n",
    "# Why isn't the single quote character in the word Howl's not escaped a problem?"
   ]
  },
  {
   "cell_type": "code",
   "execution_count": null,
   "id": "7bbe1561",
   "metadata": {},
   "outputs": [],
   "source": [
    "# Answer;\n",
    "# The single quote in Howl's is fine because you've used double quotes to mark the beginning and end of the string. \n",
    "# Like wise we can use double quotes in with single quotes"
   ]
  },
  {
   "cell_type": "code",
   "execution_count": 10,
   "id": "34d2612a",
   "metadata": {},
   "outputs": [
    {
     "name": "stdout",
     "output_type": "stream",
     "text": [
      "It's Ineuron online class\n"
     ]
    }
   ],
   "source": [
    "print(\"It's Ineuron online class\")"
   ]
  },
  {
   "cell_type": "code",
   "execution_count": 11,
   "id": "59e35562",
   "metadata": {},
   "outputs": [
    {
     "name": "stdout",
     "output_type": "stream",
     "text": [
      "It is \"Ineuron\" online class\n"
     ]
    }
   ],
   "source": [
    "# like wise we can use double quote in side single quote\n",
    "print('It is \"Ineuron\" online class')"
   ]
  },
  {
   "cell_type": "code",
   "execution_count": null,
   "id": "0b408151",
   "metadata": {},
   "outputs": [],
   "source": [
    "# Question 5:  How do you write a string of newlines if you don't want to use the n character?"
   ]
  },
  {
   "cell_type": "code",
   "execution_count": 14,
   "id": "28f6142c",
   "metadata": {},
   "outputs": [
    {
     "name": "stdout",
     "output_type": "stream",
     "text": [
      "Ineuron online class is a new class\n",
      "new class\n"
     ]
    }
   ],
   "source": [
    "# Answer;\n",
    "print(\"Ineuron online class is a new class\",end = '\\n')\n",
    "print(\"new class\")"
   ]
  },
  {
   "cell_type": "code",
   "execution_count": 16,
   "id": "41c1f5f1",
   "metadata": {},
   "outputs": [
    {
     "data": {
      "text/plain": [
       "'e'"
      ]
     },
     "execution_count": 16,
     "metadata": {},
     "output_type": "execute_result"
    }
   ],
   "source": [
    "# Question 6: What are the values of the given expressions?\n",
    "\n",
    "# Answer are on below;\n",
    "\n",
    "'Hello, world!'[1]"
   ]
  },
  {
   "cell_type": "code",
   "execution_count": 17,
   "id": "281ebe6a",
   "metadata": {},
   "outputs": [
    {
     "data": {
      "text/plain": [
       "'Hello'"
      ]
     },
     "execution_count": 17,
     "metadata": {},
     "output_type": "execute_result"
    }
   ],
   "source": [
    "'Hello, world!'[0:5]"
   ]
  },
  {
   "cell_type": "code",
   "execution_count": 18,
   "id": "7f1a25ed",
   "metadata": {},
   "outputs": [
    {
     "data": {
      "text/plain": [
       "'Hello'"
      ]
     },
     "execution_count": 18,
     "metadata": {},
     "output_type": "execute_result"
    }
   ],
   "source": [
    "'Hello, world!'[:5]"
   ]
  },
  {
   "cell_type": "code",
   "execution_count": 19,
   "id": "5b199902",
   "metadata": {},
   "outputs": [
    {
     "data": {
      "text/plain": [
       "'lo, world!'"
      ]
     },
     "execution_count": 19,
     "metadata": {},
     "output_type": "execute_result"
    }
   ],
   "source": [
    "'Hello, world!'[3:]"
   ]
  },
  {
   "cell_type": "code",
   "execution_count": 20,
   "id": "61759caf",
   "metadata": {},
   "outputs": [],
   "source": [
    "# Question 7 : What are the values of the following expressions?"
   ]
  },
  {
   "cell_type": "code",
   "execution_count": 21,
   "id": "6d288b01",
   "metadata": {},
   "outputs": [
    {
     "data": {
      "text/plain": [
       "'HELLO'"
      ]
     },
     "execution_count": 21,
     "metadata": {},
     "output_type": "execute_result"
    }
   ],
   "source": [
    "# Answer are on below;\n",
    "'Hello'.upper()"
   ]
  },
  {
   "cell_type": "code",
   "execution_count": 22,
   "id": "1203b2fa",
   "metadata": {},
   "outputs": [
    {
     "data": {
      "text/plain": [
       "True"
      ]
     },
     "execution_count": 22,
     "metadata": {},
     "output_type": "execute_result"
    }
   ],
   "source": [
    "'Hello'.upper().isupper()"
   ]
  },
  {
   "cell_type": "code",
   "execution_count": 23,
   "id": "c26a234a",
   "metadata": {},
   "outputs": [
    {
     "data": {
      "text/plain": [
       "'hello'"
      ]
     },
     "execution_count": 23,
     "metadata": {},
     "output_type": "execute_result"
    }
   ],
   "source": [
    "'Hello'.upper().lower()"
   ]
  },
  {
   "cell_type": "code",
   "execution_count": 24,
   "id": "e1c62e5b",
   "metadata": {},
   "outputs": [],
   "source": [
    "# Question 8 : What are the values of the following expressions?"
   ]
  },
  {
   "cell_type": "code",
   "execution_count": 25,
   "id": "4d56192e",
   "metadata": {},
   "outputs": [
    {
     "data": {
      "text/plain": [
       "['Remember,', 'remember,', 'the', 'fifth', 'of', 'July.']"
      ]
     },
     "execution_count": 25,
     "metadata": {},
     "output_type": "execute_result"
    }
   ],
   "source": [
    "# Answer are on below;\n",
    "'Remember, remember, the fifth of July.'.split()"
   ]
  },
  {
   "cell_type": "code",
   "execution_count": 26,
   "id": "3ce49e71",
   "metadata": {},
   "outputs": [
    {
     "data": {
      "text/plain": [
       "'There-can-only-one.'"
      ]
     },
     "execution_count": 26,
     "metadata": {},
     "output_type": "execute_result"
    }
   ],
   "source": [
    "'-'.join('There can only one.'.split())"
   ]
  },
  {
   "cell_type": "code",
   "execution_count": 27,
   "id": "4013ebd0",
   "metadata": {},
   "outputs": [],
   "source": [
    "# Question 9 : What are the methods for right-justifying, left-justifying, and centering a string?"
   ]
  },
  {
   "cell_type": "code",
   "execution_count": 31,
   "id": "c63b1c36",
   "metadata": {},
   "outputs": [
    {
     "data": {
      "text/plain": [
       "'Ineuron---'"
      ]
     },
     "execution_count": 31,
     "metadata": {},
     "output_type": "execute_result"
    }
   ],
   "source": [
    "# Answer are on below;\n",
    "# left justified\n",
    "str =\"Ineuron\"\n",
    "str.ljust(10,\"-\")"
   ]
  },
  {
   "cell_type": "code",
   "execution_count": 32,
   "id": "780af265",
   "metadata": {},
   "outputs": [
    {
     "data": {
      "text/plain": [
       "'*********************************Ineuron'"
      ]
     },
     "execution_count": 32,
     "metadata": {},
     "output_type": "execute_result"
    }
   ],
   "source": [
    "# right justified\n",
    "str =\"Ineuron\"\n",
    "str.rjust(40,'*')"
   ]
  },
  {
   "cell_type": "code",
   "execution_count": 33,
   "id": "a839bff9",
   "metadata": {},
   "outputs": [
    {
     "data": {
      "text/plain": [
       "'****************Ineuron*****************'"
      ]
     },
     "execution_count": 33,
     "metadata": {},
     "output_type": "execute_result"
    }
   ],
   "source": [
    "# center justified\n",
    "str =\"Ineuron\"\n",
    "str.center(40,'*')"
   ]
  },
  {
   "cell_type": "code",
   "execution_count": 34,
   "id": "75c0805c",
   "metadata": {},
   "outputs": [],
   "source": [
    "# Question 10: What is the best way to remove whitespace characters from the start or end?"
   ]
  },
  {
   "cell_type": "code",
   "execution_count": 36,
   "id": "9d75ca97",
   "metadata": {},
   "outputs": [
    {
     "data": {
      "text/plain": [
       "'Ineuron online class  '"
      ]
     },
     "execution_count": 36,
     "metadata": {},
     "output_type": "execute_result"
    }
   ],
   "source": [
    "str =\"  Ineuron online class  \"\n",
    "str.lstrip()"
   ]
  },
  {
   "cell_type": "code",
   "execution_count": 37,
   "id": "59440788",
   "metadata": {},
   "outputs": [
    {
     "data": {
      "text/plain": [
       "'  Ineuron online class'"
      ]
     },
     "execution_count": 37,
     "metadata": {},
     "output_type": "execute_result"
    }
   ],
   "source": [
    "str =\"  Ineuron online class  \"\n",
    "str.rstrip()"
   ]
  }
 ],
 "metadata": {
  "kernelspec": {
   "display_name": "Python 3 (ipykernel)",
   "language": "python",
   "name": "python3"
  },
  "language_info": {
   "codemirror_mode": {
    "name": "ipython",
    "version": 3
   },
   "file_extension": ".py",
   "mimetype": "text/x-python",
   "name": "python",
   "nbconvert_exporter": "python",
   "pygments_lexer": "ipython3",
   "version": "3.9.12"
  }
 },
 "nbformat": 4,
 "nbformat_minor": 5
}
